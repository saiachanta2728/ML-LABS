{
  "nbformat": 4,
  "nbformat_minor": 0,
  "metadata": {
    "colab": {
      "provenance": []
    },
    "kernelspec": {
      "name": "python3",
      "display_name": "Python 3"
    },
    "language_info": {
      "name": "python"
    }
  },
  "cells": [
    {
      "cell_type": "markdown",
      "source": [
        "### **2 .For a given set of training data examples stored in a .CSV file implement and demonstrate the Candidate-Elimination algorithm to output a description of the set of all hypotheses consistent with the training examples.**"
      ],
      "metadata": {
        "id": "zjDW1v8Uunib"
      }
    },
    {
      "cell_type": "markdown",
      "source": [
        "### **Candidate Elimination Algorithm:**\n",
        "The Candidate Elimination Algorithm is a method for learning a concept from a set of positive and negative examples. It incrementally refines the hypothesis space by generalizing and specializing the hypotheses to arrive at the most specific and general hypotheses consistent with the examples."
      ],
      "metadata": {
        "id": "3ei_p297vQmA"
      }
    },
    {
      "cell_type": "markdown",
      "source": [
        "The candidate elimination algorithm does this by updating the general and specific boundary for each new example.\n",
        "\n",
        "* You can consider this as an extended form of the Find-S algorithm.\n",
        "* Consider both positive and negative examples.\n",
        "* Actually, positive examples are used here as the Find-S algorithm (Basically they are generalizing from the specification).\n",
        "* While the negative example is specified in the generalizing form."
      ],
      "metadata": {
        "id": "Rbqq4VKsvn9O"
      }
    },
    {
      "cell_type": "markdown",
      "source": [
        "**Terms Used:**\n",
        "\n",
        "* **Concept learning:** Concept learning is basically the learning task of the machine (Learn by Train data)\n",
        "\n",
        "* **General Hypothesis:** Not Specifying features to learn the machine.\n",
        "\n",
        "* G = {‘?’, ‘?’,’?’,’?’…}: Number of attributes\n",
        "\n",
        "* **Specific Hypothesis:** Specifying features to learn machine (Specific feature)\n",
        "\n",
        "* **S= {‘pi’,’pi’,’pi’…}:** The number of pi depends on a number of attributes.\n",
        "\n",
        "* **Version Space**: It is an intermediate of general hypothesis and Specific hypothesis. It not only just writes one hypothesis but a set of all possible hypotheses based on training data-set."
      ],
      "metadata": {
        "id": "4yzXG-LwwEBs"
      }
    },
    {
      "cell_type": "code",
      "source": [
        "import csv\n",
        "\n",
        "def g_0(n):\n",
        "    return (\"?\",) * n\n",
        "\n",
        "def s_0(n):\n",
        "    return ('0',) * n\n",
        "\n",
        "def more_general(h1, h2):\n",
        "    more_general_parts = []\n",
        "    for x, y in zip(h1, h2):\n",
        "        mg = x == \"?\" or (x != \"0\" and (x == y or y == \"0\"))\n",
        "        more_general_parts.append(mg)\n",
        "    return all(more_general_parts)\n"
      ],
      "metadata": {
        "id": "71iS2DTQ0gzq"
      },
      "execution_count": 4,
      "outputs": []
    },
    {
      "cell_type": "code",
      "source": [
        "def fulfills(example, hypothesis):\n",
        "    return more_general(hypothesis, example)\n",
        "\n",
        "def min_generalizations(h, x):\n",
        "    h_new = list(h)\n",
        "    for i in range(len(h)):\n",
        "        if not fulfills(x[i:i+1], h[i:i+1]):\n",
        "            h_new[i] = '?' if h[i] != '0' else x[i]\n",
        "    return [tuple(h_new)]"
      ],
      "metadata": {
        "id": "Tjs5yvKB0lge"
      },
      "execution_count": 5,
      "outputs": []
    },
    {
      "cell_type": "code",
      "source": [
        "def min_specializations(h, domains, x):\n",
        "    results = []\n",
        "    for i in range(len(h)):\n",
        "        if h[i] == \"?\":\n",
        "            for val in domains[i]:\n",
        "                if x[i] != val:\n",
        "                    h_new = h[:i] + (val,) + h[i+1:]\n",
        "                    results.append(h_new)\n",
        "        elif h[i] != \"0\":\n",
        "            h_new = h[:i] + ('0',) + h[i+1:]\n",
        "            results.append(h_new)\n",
        "    return results"
      ],
      "metadata": {
        "id": "ZGpwboOA0pwR"
      },
      "execution_count": 6,
      "outputs": []
    },
    {
      "cell_type": "code",
      "source": [
        "def get_domains(examples):\n",
        "    d = [set() for i in examples[0]]\n",
        "    for x in examples:\n",
        "        for i, xi in enumerate(x):\n",
        "            d[i].add(xi)\n",
        "    return [list(sorted(x)) for x in d]\n"
      ],
      "metadata": {
        "id": "Qz8W9mZy0yxB"
      },
      "execution_count": 7,
      "outputs": []
    },
    {
      "cell_type": "code",
      "source": [
        "def candidate_elimination(examples):\n",
        "    domains = get_domains(examples)[:-1]\n",
        "    G = set([g_0(len(domains))])\n",
        "    S = set([s_0(len(domains))])\n",
        "    i = 0\n",
        "    print(\"\\n G[{0}]:\".format(i), G)\n",
        "    print(\"\\n S[{0}]:\".format(i), S)\n",
        "    for xcx in examples:\n",
        "        i = i + 1\n",
        "        x, cx = xcx[:-1], xcx[-1]  # Splitting data into attributes and decisions\n",
        "        if cx == 'Y':  # x is positive example\n",
        "            G = {g for g in G if fulfills(x, g)}\n",
        "            S = generalize_S(x, G, S)\n",
        "        else:  # x is negative example\n",
        "            S = {s for s in S if not fulfills(x, s)}\n",
        "            G = specialize_G(x, domains, G, S)\n",
        "        print(\"\\n G[{0}]:\".format(i), G)\n",
        "        print(\"\\n S[{0}]:\".format(i), S)\n",
        "    print(\"\\nFinal General Hypothesis (G):\", G)\n",
        "    print(\"\\nFinal Specific Hypothesis (S):\", S)\n",
        "    return"
      ],
      "metadata": {
        "id": "iRVID-kc01t8"
      },
      "execution_count": 8,
      "outputs": []
    },
    {
      "cell_type": "code",
      "source": [
        "def generalize_S(x, G, S):\n",
        "    S_prev = list(S)\n",
        "    for s in S_prev:\n",
        "        if s not in S:\n",
        "            continue\n",
        "        if not fulfills(x, s):\n",
        "            S.remove(s)\n",
        "            Splus = min_generalizations(s, x)\n",
        "            # Keep only generalizations that have a counterpart in G\n",
        "            S.update([h for h in Splus if any([more_general(g, h) for g in G])])\n",
        "            # Remove hypotheses less specific than any other in S\n",
        "            S.difference_update([h for h in S if any([more_general(h, h1) for h1 in S if h != h1])])\n",
        "    return S\n",
        "\n"
      ],
      "metadata": {
        "id": "Mw0n58vmzzCe"
      },
      "execution_count": 9,
      "outputs": []
    },
    {
      "cell_type": "code",
      "source": [
        "def specialize_G(x, domains, G, S):\n",
        "    G_prev = list(G)\n",
        "    for g in G_prev:\n",
        "        if g not in G:\n",
        "            continue\n",
        "        if fulfills(x, g):\n",
        "            G.remove(g)\n",
        "            Gminus = min_specializations(g, domains, x)\n",
        "            # Keep only specializations that have a counterpart in S\n",
        "            G.update([h for h in Gminus if any([more_general(h, s) for s in S])])\n",
        "            # Remove hypotheses less general than any other in G\n",
        "            G.difference_update([h for h in G if any([more_general(g1, h) for g1 in G if h != g1])])\n",
        "    return G\n",
        "\n",
        "\n"
      ],
      "metadata": {
        "id": "Nx2n7N2V1AKR"
      },
      "execution_count": 10,
      "outputs": []
    },
    {
      "cell_type": "code",
      "source": [
        "# Load the examples from a CSV file\n",
        "import csv\n",
        "with open('/content/Lab2.csv') as csvFile:\n",
        "    examples = [tuple(line) for line in csv.reader(csvFile)]\n",
        "\n",
        "# Examples for testing (uncomment and use instead of loading from a file)\n",
        "# examples = [\n",
        "#     ('sunny', 'warm', 'normal', 'strong', 'warm', 'same', 'Y'),\n",
        "#     ('sunny', 'warm', 'high', 'strong', 'warm', 'same', 'Y'),\n",
        "#     ('rainy', 'cold', 'high', 'strong', 'warm', 'change', 'N'),\n",
        "#     ('sunny', 'warm', 'high', 'strong', 'cool', 'change', 'Y')\n",
        "# ]\n",
        "\n",
        "# Run the candidate elimination algorithm\n",
        "candidate_elimination(examples)"
      ],
      "metadata": {
        "colab": {
          "base_uri": "https://localhost:8080/"
        },
        "id": "M4CCJdNt1HM_",
        "outputId": "64308a99-88df-4bc0-8ad2-778fc0268f8b"
      },
      "execution_count": 13,
      "outputs": [
        {
          "output_type": "stream",
          "name": "stdout",
          "text": [
            "\n",
            " G[0]: {('?', '?', '?', '?', '?', '?')}\n",
            "\n",
            " S[0]: {('0', '0', '0', '0', '0', '0')}\n",
            "\n",
            " G[1]: {('?', '?', '?', '?', '?', '?')}\n",
            "\n",
            " S[1]: {('Sunny', 'Warm', 'Normal', 'Strong', 'Warm', 'Same')}\n",
            "\n",
            " G[2]: {('?', '?', '?', '?', '?', '?')}\n",
            "\n",
            " S[2]: {('Sunny', 'Warm', '?', 'Strong', 'Warm', 'Same')}\n",
            "\n",
            " G[3]: {('?', '?', '?', '?', '?', 'Same'), ('?', 'Warm', '?', '?', '?', '?'), ('Sunny', '?', '?', '?', '?', '?')}\n",
            "\n",
            " S[3]: {('Sunny', 'Warm', '?', 'Strong', 'Warm', 'Same')}\n",
            "\n",
            " G[4]: {('?', 'Warm', '?', '?', '?', '?'), ('Sunny', '?', '?', '?', '?', '?')}\n",
            "\n",
            " S[4]: {('Sunny', 'Warm', '?', 'Strong', '?', '?')}\n",
            "\n",
            "Final General Hypothesis (G): {('?', 'Warm', '?', '?', '?', '?'), ('Sunny', '?', '?', '?', '?', '?')}\n",
            "\n",
            "Final Specific Hypothesis (S): {('Sunny', 'Warm', '?', 'Strong', '?', '?')}\n"
          ]
        }
      ]
    }
  ]
}