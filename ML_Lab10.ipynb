{
  "nbformat": 4,
  "nbformat_minor": 0,
  "metadata": {
    "colab": {
      "provenance": [],
      "include_colab_link": true
    },
    "kernelspec": {
      "name": "python3",
      "display_name": "Python 3"
    },
    "language_info": {
      "name": "python"
    }
  },
  "cells": [
    {
      "cell_type": "markdown",
      "metadata": {
        "id": "view-in-github",
        "colab_type": "text"
      },
      "source": [
        "<a href=\"https://colab.research.google.com/github/saiachanta2728/ML-LABS/blob/main/ML_Lab10.ipynb\" target=\"_parent\"><img src=\"https://colab.research.google.com/assets/colab-badge.svg\" alt=\"Open In Colab\"/></a>"
      ]
    },
    {
      "cell_type": "markdown",
      "source": [
        "**Naïve Bayes Classifier Algorithm:**\n",
        "\n",
        "* Naïve Bayes algorithm is a supervised learning algorithm, which is based on Bayes theorem and used for solving classification problems.\n",
        "\n",
        "* It is mainly used in text classification that includes a high-dimensional training dataset.\n",
        "\n",
        "* Naïve Bayes Classifier is one of the simple and most effective Classification algorithms which helps in building the fast machine learning models that can make quick predictions.\n",
        "\n",
        "* It is a probabilistic classifier, which means it predicts on the basis of the probability of an object.\n",
        "\n",
        "* Some popular examples of Naïve Bayes Algorithm are spam filtration, Sentimental analysis, and classifying articles."
      ],
      "metadata": {
        "id": "oyWIWTBey0cZ"
      }
    },
    {
      "cell_type": "markdown",
      "source": [
        "The Naïve Bayes algorithm is comprised of two words Naïve and Bayes, Which can be described as:\n",
        "\n",
        "**Naïve:** It is called Naïve because it assumes that the occurrence of a certain feature is independent of the occurrence of other features. Such as if the fruit is identified on the bases of color, shape, and taste, then red, spherical, and sweet fruit is recognized as an apple. Hence each feature individually contributes to identify that it is an apple without depending on each other.\n",
        "\n",
        "**Bayes:** It is called Bayes because it depends on the principle of Bayes' Theorem."
      ],
      "metadata": {
        "id": "TRUi7fODzMt1"
      }
    },
    {
      "cell_type": "markdown",
      "source": [
        "**Bayes' Theorem:**\n",
        "\n",
        "Bayes' theorem is also known as **Bayes' Rule** or **Bayes' law**, which is used to determine the probability of a hypothesis with prior knowledge. It depends on the conditional probability.\n",
        "\n",
        "**The formula for Bayes' theorem is given as:**\n",
        "![image.png](data:image/png;base64,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)\n",
        "Where,\n",
        "\n",
        "P(A|B) is Posterior probability: Probability of hypothesis A on the observed event B.\n",
        "\n",
        "P(B|A) is Likelihood probability: Probability of the evidence given that the probability of a hypothesis is true."
      ],
      "metadata": {
        "id": "Q_YYe53ext2w"
      }
    },
    {
      "cell_type": "markdown",
      "source": [
        "### **10. Assuming a set of Documents that need to be classified, use the naive Bayesian Classifier model to perform this task. Built - in Java classes API can be used to write the program. Calculate the accuracy, Precision and recall for your dataset.**\n"
      ],
      "metadata": {
        "id": "Z2EEGIKHuvVP"
      }
    },
    {
      "cell_type": "code",
      "source": [
        "import pandas as pd\n",
        "from sklearn.model_selection import train_test_split\n",
        "from sklearn.naive_bayes import MultinomialNB\n",
        "from sklearn.feature_extraction.text import CountVectorizer\n",
        "from sklearn.metrics import accuracy_score, precision_score, recall_score, classification_report\n",
        "\n",
        "# Read dataset from a CSV file\n",
        "df = pd.read_csv('/content/Lab10.csv')\n",
        "\n",
        "# Check if the DataFrame is loaded correctly\n",
        "print(df.head())  # Print the first few rows of the DataFrame\n",
        "\n",
        "# Assuming the dataset has 'message' and 'label' columns\n",
        "X = df['message']\n",
        "y = df['label']\n",
        "\n",
        "# Split the data into training and testing sets\n",
        "X_train, X_test, y_train, y_test = train_test_split(X, y, test_size=0.2, random_state=42)\n",
        "\n",
        "# Text preprocessing: Convert text to a bag-of-words model\n",
        "vectorizer = CountVectorizer()\n",
        "X_train_vectorized = vectorizer.fit_transform(X_train)\n",
        "X_test_vectorized = vectorizer.transform(X_test)\n",
        "\n",
        "# Initialize and train the Naïve Bayes classifier\n",
        "model = MultinomialNB()\n",
        "model.fit(X_train_vectorized, y_train)\n",
        "\n",
        "# Make predictions\n",
        "y_pred = model.predict(X_test_vectorized)\n",
        "\n",
        "# Calculate accuracy, precision, and recall\n",
        "accuracy = accuracy_score(y_test, y_pred)\n",
        "precision = precision_score(y_test, y_pred)\n",
        "recall = recall_score(y_test, y_pred)\n",
        "\n",
        "# Print results with extra spacing\n",
        "print(\"\\nResults:\\n\")\n",
        "print(\"Accuracy: {:.2f}\".format(accuracy))\n",
        "print(\"Precision: {:.2f}\".format(precision))\n",
        "print(\"Recall: {:.2f}\".format(recall))\n",
        "print(\"\\nClassification Report:\\n\", classification_report(y_test, y_pred))\n",
        "\n",
        "# Print a more formatted view of the first few rows of the DataFrame\n",
        "print(\"\\nSample Data:\\n\")\n",
        "print(df.to_string(index=False))  # Print without index for cleaner output\n"
      ],
      "metadata": {
        "id": "ot-U_oodu6QP",
        "colab": {
          "base_uri": "https://localhost:8080/"
        },
        "outputId": "8881c521-020f-420f-bf66-eb6eb353633f"
      },
      "execution_count": 1,
      "outputs": [
        {
          "output_type": "stream",
          "name": "stdout",
          "text": [
            "                              message  label\n",
            "0                I love this sandwich      1\n",
            "1            This is an amazing place      1\n",
            "2  I feel very good about these beers      1\n",
            "3                This is my best work      1\n",
            "4                What an awesome view      1\n",
            "\n",
            "Results:\n",
            "\n",
            "Accuracy: 1.00\n",
            "Precision: 1.00\n",
            "Recall: 1.00\n",
            "\n",
            "Classification Report:\n",
            "               precision    recall  f1-score   support\n",
            "\n",
            "           0       1.00      1.00      1.00         2\n",
            "           1       1.00      1.00      1.00         2\n",
            "\n",
            "    accuracy                           1.00         4\n",
            "   macro avg       1.00      1.00      1.00         4\n",
            "weighted avg       1.00      1.00      1.00         4\n",
            "\n",
            "\n",
            "Sample Data:\n",
            "\n",
            "                              message  label\n",
            "                 I love this sandwich      1\n",
            "             This is an amazing place      1\n",
            "   I feel very good about these beers      1\n",
            "                 This is my best work      1\n",
            "                 What an awesome view      1\n",
            "        I do not like this restaurant      0\n",
            "             I am tired of this stuff      0\n",
            "               I can't deal with this      0\n",
            "                 He is my sworn enemy      0\n",
            "                  My boss is horrible      0\n",
            "             This is an awesome place      1\n",
            "I do not like the taste of this juice      0\n",
            "                      I love to dance      1\n",
            "    I am sick and tired of this place      0\n",
            "                 What a great holiday      1\n",
            "       That is a bad locality to stay      0\n",
            "       We will have good fun tomorrow      1\n",
            "     I went to my enemy's house today      0\n"
          ]
        }
      ]
    },
    {
      "cell_type": "code",
      "source": [],
      "metadata": {
        "id": "qAJ8oCOau6Nd"
      },
      "execution_count": 1,
      "outputs": []
    },
    {
      "cell_type": "code",
      "source": [],
      "metadata": {
        "id": "oGkg17hZu6Ke"
      },
      "execution_count": 1,
      "outputs": []
    },
    {
      "cell_type": "code",
      "source": [],
      "metadata": {
        "id": "cTFOB-uyu6HC"
      },
      "execution_count": 1,
      "outputs": []
    }
  ]
}